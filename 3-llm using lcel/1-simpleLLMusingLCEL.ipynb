{
 "cells": [
  {
   "cell_type": "code",
   "execution_count": null,
   "metadata": {},
   "outputs": [],
   "source": [
    "# using opensource models like lamma3 and gemma2 using ---Groq api\n",
    "## Groq helps is access all opensource models\n",
    "\n",
    "### LCEL: Langchain Expression Language\n",
    "#### lcel  is a declarative way to chain all components together\n"
   ]
  },
  {
   "cell_type": "code",
   "execution_count": 2,
   "metadata": {},
   "outputs": [
    {
     "data": {
      "text/plain": [
       "True"
      ]
     },
     "execution_count": 2,
     "metadata": {},
     "output_type": "execute_result"
    }
   ],
   "source": [
    "# to load the environment variables\n",
    "import os\n",
    "from dotenv import load_dotenv\n",
    "load_dotenv()"
   ]
  },
  {
   "cell_type": "code",
   "execution_count": 3,
   "metadata": {},
   "outputs": [],
   "source": [
    "# at few instances openai outperforms groq\n",
    "import openai\n",
    "from langchain_openai import ChatOpenAI\n",
    "openai.api_key=os.getenv('OPENAI_API_KEY')\n"
   ]
  },
  {
   "cell_type": "code",
   "execution_count": 4,
   "metadata": {},
   "outputs": [
    {
     "data": {
      "text/plain": [
       "ChatGroq(client=<groq.resources.chat.completions.Completions object at 0x000001D288073DD0>, async_client=<groq.resources.chat.completions.AsyncCompletions object at 0x000001D287FB5990>, model_name='Gemma2-9b-It', model_kwargs={}, groq_api_key=SecretStr('**********'))"
      ]
     },
     "execution_count": 4,
     "metadata": {},
     "output_type": "execute_result"
    }
   ],
   "source": [
    "# here i am using same virtual envi so installing is not required otherwise need to install all packages\n",
    "# setting up groq api and model\n",
    "from langchain_groq import ChatGroq\n",
    "groq_api_key = os.getenv(\"GROQ_API_KEY\")\n",
    "llm_groq = ChatGroq(model='Gemma2-9b-It',groq_api_key=groq_api_key)\n",
    "llm_groq"
   ]
  },
  {
   "cell_type": "code",
   "execution_count": 8,
   "metadata": {},
   "outputs": [
    {
     "name": "stdout",
     "output_type": "stream",
     "text": [
      "మీకు ఎలా ఉన్నారు? (Mēku elā unnaru?) \n",
      "\n",
      " \n",
      "\n"
     ]
    }
   ],
   "source": [
    "# key libraries used in langchain\n",
    "# we need to specify llm model which is human message and system message is instruction to model\n",
    "from langchain_core.messages import HumanMessage,SystemMessage\n",
    "\n",
    "messages=[\n",
    "    SystemMessage(content=\"Transulate the text from english to telugu\"),\n",
    "    HumanMessage(content=\"how are you?\")\n",
    "         ]\n",
    "\n",
    "result = llm_groq.invoke(messages)\n",
    "print(result.content)"
   ]
  },
  {
   "cell_type": "code",
   "execution_count": 10,
   "metadata": {},
   "outputs": [
    {
     "data": {
      "text/plain": [
       "'మీకు ఎలా ఉన్నారు? (Mēku elā unnaru?) \\n\\n \\n'"
      ]
     },
     "execution_count": 10,
     "metadata": {},
     "output_type": "execute_result"
    }
   ],
   "source": [
    "# we can print the o/p using stroutputparsers\n",
    "from langchain_core.output_parsers import StrOutputParser\n",
    "op_parser = StrOutputParser()\n",
    "op_parser.invoke(result)"
   ]
  },
  {
   "cell_type": "markdown",
   "metadata": {},
   "source": [
    "### LCEL: Langchain Expression Language\n",
    "#### lcel  is used to chain all components together"
   ]
  },
  {
   "cell_type": "code",
   "execution_count": 11,
   "metadata": {},
   "outputs": [
    {
     "data": {
      "text/plain": [
       "\"మీకు ఎలా ఉన్నారు? (Mēku ēla unnaru?) \\n\\n\\nLet me know if you have any other phrases you'd like translated! 😊 \\n\""
      ]
     },
     "execution_count": 11,
     "metadata": {},
     "output_type": "execute_result"
    }
   ],
   "source": [
    "# using lcel we can chain the components we have here is model and stropparser and get the output\n",
    "chain = llm_groq|op_parser\n",
    "chain.invoke(messages)"
   ]
  },
  {
   "cell_type": "code",
   "execution_count": 16,
   "metadata": {},
   "outputs": [
    {
     "data": {
      "text/plain": [
       "[SystemMessage(content='translate the following into Telugu', additional_kwargs={}, response_metadata={}),\n",
       " HumanMessage(content='hello', additional_kwargs={}, response_metadata={})]"
      ]
     },
     "execution_count": 16,
     "metadata": {},
     "output_type": "execute_result"
    }
   ],
   "source": [
    "# instead of giving message we can give user input and some application logic\n",
    "from langchain_core.prompts import ChatPromptTemplate\n",
    "prompt = ChatPromptTemplate.from_messages(\n",
    "    [\n",
    "        (\"system\",\"translate the following into {language}\"),\n",
    "        (\"user\",\"{input_text}\")\n",
    "    ])\n",
    "prompt_result = prompt.invoke({\"language\":\"Telugu\",\"input_text\":\"hello\"})\n",
    "prompt_result.to_messages()\n",
    "# we can see template is ditrectly generating human and systen messages"
   ]
  },
  {
   "cell_type": "code",
   "execution_count": 18,
   "metadata": {},
   "outputs": [
    {
     "data": {
      "text/plain": [
       "'आप कैसे हैं? (aap kaise hain?) \\n'"
      ]
     },
     "execution_count": 18,
     "metadata": {},
     "output_type": "execute_result"
    }
   ],
   "source": [
    "# chaining together with prompt template\n",
    "chain = prompt | llm_groq | op_parser\n",
    "chain.invoke({'language':\"Hindi\",\"input_text\":\"How are you?\"})"
   ]
  },
  {
   "cell_type": "code",
   "execution_count": null,
   "metadata": {},
   "outputs": [],
   "source": []
  },
  {
   "cell_type": "code",
   "execution_count": null,
   "metadata": {},
   "outputs": [],
   "source": []
  }
 ],
 "metadata": {
  "kernelspec": {
   "display_name": "Python 3",
   "language": "python",
   "name": "python3"
  },
  "language_info": {
   "codemirror_mode": {
    "name": "ipython",
    "version": 3
   },
   "file_extension": ".py",
   "mimetype": "text/x-python",
   "name": "python",
   "nbconvert_exporter": "python",
   "pygments_lexer": "ipython3",
   "version": "3.11.5"
  }
 },
 "nbformat": 4,
 "nbformat_minor": 2
}
