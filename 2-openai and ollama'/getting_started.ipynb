{
 "cells": [
  {
   "cell_type": "code",
   "execution_count": 19,
   "metadata": {},
   "outputs": [
    {
     "data": {
      "text/plain": [
       "True"
      ]
     },
     "execution_count": 19,
     "metadata": {},
     "output_type": "execute_result"
    }
   ],
   "source": [
    "import os\n",
    "from dotenv import load_dotenv\n",
    "load_dotenv() # to load all the environment variables\n"
   ]
  },
  {
   "cell_type": "code",
   "execution_count": 20,
   "metadata": {},
   "outputs": [],
   "source": [
    "# loading required envi variables\n",
    "os.environ['OPENAI_API_KEY'] = os.getenv('OPENAI_API_KEY')\n",
    "os.environ[\"LANGCHAIN_API_KEY\"]=os.getenv('LANGCHAIN_API_KEY')\n",
    "os.environ[\"LANGCHAIN_TRACKING_V2\"]='true' # to track langsmith\n",
    "os.environ[\"LANGCHAIN_PROJECT\"]=os.getenv(\"LANGCHAIN_PROJECT1\")\n",
    "os.environ[\"LANGCHAIN_ENDPOINT\"]=\"https://api.smith.langchain.com\""
   ]
  },
  {
   "cell_type": "code",
   "execution_count": 21,
   "metadata": {},
   "outputs": [
    {
     "name": "stdout",
     "output_type": "stream",
     "text": [
      "client=<openai.resources.chat.completions.Completions object at 0x0000020D75588B50> async_client=<openai.resources.chat.completions.AsyncCompletions object at 0x0000020D75632410> root_client=<openai.OpenAI object at 0x0000020D75632890> root_async_client=<openai.AsyncOpenAI object at 0x0000020D75631AD0> model_kwargs={} openai_api_key=SecretStr('**********')\n"
     ]
    }
   ],
   "source": [
    "# we need to use langchain with openai, we already have a integration package connecting openai and langchain for that named langchain_openai\n",
    "from langchain_openai import ChatOpenAI\n",
    "chat_model = ChatOpenAI()\n",
    "print(chat_model)\n",
    "\n",
    "\n",
    "# we have OpenAI,AzureOpenAI llm models, ChatOpenAI,AzureChatOpenAI chat models, OpenaAIEmbeddings,AzureOpenAIEmbeddings embedding models"
   ]
  },
  {
   "cell_type": "code",
   "execution_count": 29,
   "metadata": {},
   "outputs": [
    {
     "data": {
      "text/plain": [
       "ChatOpenAI(client=<openai.resources.chat.completions.Completions object at 0x0000020D776BA9D0>, async_client=<openai.resources.chat.completions.AsyncCompletions object at 0x0000020D7772D150>, root_client=<openai.OpenAI object at 0x0000020D756B6F10>, root_async_client=<openai.AsyncOpenAI object at 0x0000020D776B8350>, model_name='gpt-4o', model_kwargs={}, openai_api_key=SecretStr('**********'))"
      ]
     },
     "execution_count": 29,
     "metadata": {},
     "output_type": "execute_result"
    }
   ],
   "source": [
    "# how to call different models from openAI\n",
    "gpt_model = ChatOpenAI(model=\"gpt-4o\")\n",
    "gpt_model"
   ]
  },
  {
   "cell_type": "code",
   "execution_count": 30,
   "metadata": {},
   "outputs": [
    {
     "name": "stdout",
     "output_type": "stream",
     "text": [
      "content='I am an AI language model developed by OpenAI, known as ChatGPT. My training included information available up until September 2021. Therefore, my knowledge is current through that date, and I do not have access to events or information that occurred after that time. If you have any questions or need information that falls within my training period, feel free to ask!' additional_kwargs={'refusal': None} response_metadata={'token_usage': {'completion_tokens': 74, 'prompt_tokens': 18, 'total_tokens': 92, 'completion_tokens_details': {'reasoning_tokens': 0}, 'prompt_tokens_details': {'cached_tokens': 0}}, 'model_name': 'gpt-4o-2024-05-13', 'system_fingerprint': 'fp_c17d3befe7', 'finish_reason': 'stop', 'logprobs': None} id='run-9d8fd531-f24a-4478-b97f-4a7e64ae34fb-0' usage_metadata={'input_tokens': 18, 'output_tokens': 74, 'total_tokens': 92}\n"
     ]
    }
   ],
   "source": [
    "# if we want to ask any question wrt to llm model\n",
    "gpt_result = gpt_model.invoke(\"who are you, till what date you have updated information\")\n",
    "print(gpt_result)\n"
   ]
  },
  {
   "cell_type": "code",
   "execution_count": 33,
   "metadata": {},
   "outputs": [
    {
     "data": {
      "text/plain": [
       "AIMessage(content='నేను పైథాన్\\u200cలో కోడింగ్ చేయడం ఇష్టపడుతున్నాను.', additional_kwargs={'refusal': None}, response_metadata={'token_usage': {'completion_tokens': 18, 'prompt_tokens': 33, 'total_tokens': 51, 'completion_tokens_details': {'reasoning_tokens': 0}, 'prompt_tokens_details': {'cached_tokens': 0}}, 'model_name': 'gpt-4o-2024-05-13', 'system_fingerprint': 'fp_c17d3befe7', 'finish_reason': 'stop', 'logprobs': None}, id='run-a15e37d3-e8b1-4ee5-b0eb-f2b0cf9bac79-0', usage_metadata={'input_tokens': 33, 'output_tokens': 18, 'total_tokens': 51})"
      ]
     },
     "execution_count": 33,
     "metadata": {},
     "output_type": "execute_result"
    }
   ],
   "source": [
    "# we can set the llm model system to do certian tasks, here human is our input\n",
    "messages = [\n",
    "    (\n",
    "        \"system\",\n",
    "        \"You are a helpful assistant that translates English to Telugu. Translate the user sentence.\",\n",
    "    ),\n",
    "    (\"human\", \"I love coding in python .\"),\n",
    "]\n",
    "ai_msg = gpt_model.invoke(messages)\n",
    "ai_msg"
   ]
  },
  {
   "cell_type": "code",
   "execution_count": 36,
   "metadata": {},
   "outputs": [
    {
     "data": {
      "text/plain": [
       "ChatPromptTemplate(input_variables=['input'], input_types={}, partial_variables={}, messages=[SystemMessagePromptTemplate(prompt=PromptTemplate(input_variables=[], input_types={}, partial_variables={}, template='you are expert in AI Trading in Stocks and Crypto. Provide me answers based on this'), additional_kwargs={}), HumanMessagePromptTemplate(prompt=PromptTemplate(input_variables=['input'], input_types={}, partial_variables={}, template='{input}'), additional_kwargs={})])"
      ]
     },
     "execution_count": 36,
     "metadata": {},
     "output_type": "execute_result"
    }
   ],
   "source": [
    "# we can set the prompt for model as well\n",
    "from langchain_core.prompts import ChatPromptTemplate\n",
    "prompt = ChatPromptTemplate.from_messages(\n",
    "[\n",
    "    ('system','you are expert in AI Trading in Stocks and Crypto. Provide me answers based on this'),\n",
    "    ('user','{input}')\n",
    "\n",
    "])\n",
    "# this is only the prompt template we dont have model integration yet\n",
    "prompt"
   ]
  },
  {
   "cell_type": "code",
   "execution_count": 38,
   "metadata": {},
   "outputs": [
    {
     "name": "stdout",
     "output_type": "stream",
     "text": [
      "content=\"As of my last update in October 2023, I can't provide real-time data. However, I can give you a general idea of how to identify outperforming stocks in the Indian market.\\n\\n### Key Metrics to Identify Outperforming Stocks:\\n\\n1. **Earnings Growth:** Look for companies with strong and consistent earnings growth. This indicates that the company is growing its profits over time.\\n\\n2. **Revenue Growth:** Similar to earnings, consistent revenue growth is a good indicator of a company's expanding business operations.\\n\\n3. **Profit Margins:** Companies with high and improving profit margins are often better at controlling costs and maximizing profits.\\n\\n4. **Return on Equity (ROE):** A high ROE indicates that a company is efficient at generating profits from shareholders' equity.\\n\\n5. **Debt Levels:** Companies with low debt levels are generally considered safer investments, as they are less likely to face financial distress.\\n\\n6. **Market Sentiment:** Positive news, strong management, and good industry prospects can also drive stock performance.\\n\\n### Popular Stock Market Indices in India:\\n\\n1. **Nifty 50:** This is a benchmark index that represents the top 50 companies listed on the National Stock Exchange (NSE). Companies that frequently outperform include Reliance Industries, HDFC Bank, Infosys, TCS, and ICICI Bank.\\n\\n2. **BSE Sensex:** This index represents the top 30 companies listed on the Bombay Stock Exchange (BSE). Companies like Tata Consultancy Services (TCS), HDFC Bank, Reliance Industries, and Infosys are often strong performers.\\n\\n### Tools for Analysis:\\n\\n1. **Fundamental Analysis:** Use platforms like Moneycontrol, Economic Times, or Screener.in for detailed financial metrics and analysis.\\n\\n2. **Technical Analysis:** Websites like TradingView offer advanced charting tools to analyze stock performance using technical indicators.\\n\\n3. **Broker Reports:** Many brokerage firms publish regular reports on market trends and stock performance, which can be very insightful.\\n\\n### Example of Current Strong Performers (Hypothetical):\\n\\n- **Reliance Industries (RIL):** Consistently strong performance due to its diversified business model, including petrochemicals, retail, and telecom.\\n\\n- **HDFC Bank:** Known for its robust financial performance and market leadership in the banking sector.\\n\\n- **Infosys and TCS:** Leaders in the IT services sector, benefiting from global digital transformation trends.\\n\\n- **Bajaj Finance:** A strong player in the financial services sector with consistent growth in its loan book and profitability.\\n\\nFor the most accurate and up-to-date information, always refer to the latest financial news, stock market data, and consult financial analysts or advisors.\" additional_kwargs={'refusal': None} response_metadata={'token_usage': {'completion_tokens': 538, 'prompt_tokens': 36, 'total_tokens': 574, 'completion_tokens_details': {'reasoning_tokens': 0}, 'prompt_tokens_details': {'cached_tokens': 0}}, 'model_name': 'gpt-4o-2024-05-13', 'system_fingerprint': 'fp_057232b607', 'finish_reason': 'stop', 'logprobs': None} id='run-a0156b3c-6a37-4e19-b450-c09fa8f9bb02-0' usage_metadata={'input_tokens': 36, 'output_tokens': 538, 'total_tokens': 574}\n",
      "type of response <class 'langchain_core.messages.ai.AIMessage'>\n"
     ]
    }
   ],
   "source": [
    "# to chain the model with above prompt\n",
    "chain = prompt | gpt_model # this is chaining the prompt with llm model\n",
    "\n",
    "# to get the answer for input\n",
    "response = chain.invoke({\"input\":\"Which indian stocks are outperforming? \"})\n",
    "print(response)\n",
    "print(\"type of response\",type(response))\n"
   ]
  },
  {
   "cell_type": "code",
   "execution_count": 39,
   "metadata": {},
   "outputs": [
    {
     "name": "stdout",
     "output_type": "stream",
     "text": [
      "In 2021, several Indian stocks delivered strong performances, driven by various economic, sectoral, and company-specific factors. Here are some of the notable outperformers:\n",
      "\n",
      "1. **Adani Group Stocks**:\n",
      "   - **Adani Enterprises**: Benefited from diversified business operations.\n",
      "   - **Adani Green Energy**: Saw significant gains due to the renewable energy push.\n",
      "\n",
      "2. **Tata Group Stocks**:\n",
      "   - **Tata Motors**: Recovered strongly with the rise in demand for cars and electric vehicles.\n",
      "   - **Tata Steel**: Benefited from the steel price rally.\n",
      "\n",
      "3. **Technology Sector**:\n",
      "   - **Infosys** and **Tata Consultancy Services (TCS)**: Continued strong performance due to robust demand for IT services and digital transformation.\n",
      "\n",
      "4. **Financial Sector**:\n",
      "   - **ICICI Bank** and **HDFC Bank**: Showed resilience and growth in the financial sector.\n",
      "\n",
      "5. **Pharmaceuticals**:\n",
      "   - **Dr. Reddy’s Laboratories** and **Divi’s Laboratories**: Performed well amid the ongoing focus on healthcare.\n",
      "\n",
      "6. **Specialty Chemicals**:\n",
      "   - **SRF Limited** and **PI Industries**: Saw significant gains due to strong demand for specialty chemicals.\n",
      "\n",
      "7. **Consumer Goods**:\n",
      "   - **Asian Paints**: Continued to show robust growth due to home improvement trends.\n",
      "\n",
      "8. **Real Estate**:\n",
      "   - **DLF Limited** and **Godrej Properties**: Benefited from the revival in the real estate sector.\n",
      "\n",
      "These performances were driven by a mix of global recovery, sector-specific growth trends, and company-specific strategies and innovations. Always ensure to do your own research or consult with a financial advisor when making investment decisions.\n"
     ]
    }
   ],
   "source": [
    "# if we only want content as output we can pasre the response\n",
    "from langchain_core.output_parsers import StrOutputParser\n",
    "output_str = StrOutputParser()\n",
    "chain = prompt | gpt_model | output_str\n",
    "\n",
    "response = chain.invoke({\"input\":\"Which indian stocks outperformed in 2021? \"})\n",
    "print(response)"
   ]
  }
 ],
 "metadata": {
  "kernelspec": {
   "display_name": "Python 3",
   "language": "python",
   "name": "python3"
  },
  "language_info": {
   "codemirror_mode": {
    "name": "ipython",
    "version": 3
   },
   "file_extension": ".py",
   "mimetype": "text/x-python",
   "name": "python",
   "nbconvert_exporter": "python",
   "pygments_lexer": "ipython3",
   "version": "3.11.5"
  }
 },
 "nbformat": 4,
 "nbformat_minor": 2
}
