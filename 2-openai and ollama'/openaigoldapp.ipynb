{
 "cells": [
  {
   "cell_type": "markdown",
   "metadata": {},
   "source": [
    "### simple gen ai using langchain"
   ]
  },
  {
   "cell_type": "code",
   "execution_count": null,
   "metadata": {},
   "outputs": [],
   "source": [
    "# app build based on website \n",
    "# https://www.moneycontrol.com/news/gold-rates-today/\n"
   ]
  },
  {
   "cell_type": "code",
   "execution_count": 3,
   "metadata": {},
   "outputs": [],
   "source": [
    "import os\n",
    "from dotenv import load_dotenv\n",
    "load_dotenv()\n",
    "os.environ['OPENAI_API_KEY'] = os.getenv('OPENAI_API_KEY')\n",
    "os.environ[\"LANGCHAIN_API_KEY\"]=os.getenv('LANGCHAIN_API_KEY')\n",
    "os.environ[\"LANGCHAIN_TRACKING_V2\"]='true' # to track langsmith\n",
    "os.environ[\"LANGCHAIN_PROJECT\"]=os.getenv(\"LANGCHAIN_PROJECT2\")"
   ]
  },
  {
   "cell_type": "code",
   "execution_count": 7,
   "metadata": {},
   "outputs": [
    {
     "data": {
      "text/plain": [
       "[Document(metadata={'source': 'https://www.moneycontrol.com/news/gold-rates-today/', 'title': 'Gold Rate in India Today: Check 22 & 24 Carat Gold Rate in India | MoneyControl - Moneycontrol.com', 'description': 'Gold Rate in India Today: Check latest gold rate in India today by the Moneycontrol. Get latest 22 & 24 carat gold rate in india, gold rate news, gold rate updates, videos and more', 'language': 'en'}, page_content='    Gold Rate in India Today: Check 22 & 24 Carat Gold Rate in India | MoneyControl - Moneycontrol.com      \\n\\n  \\n\\n      \\n\\n   \\n\\n  EnglishHindiGujaratiSpecialsSearch Quotes, News, Mutual Fund NAVsTrending StocksBajaj Housing INE377Y01014, BAJAJHFL, 544252Ola Electric INE0LXG01040, OLAELEC, 544225Suzlon Energy INE040H01021, SUZLON, 532667Tata Motors INE155A01022, TATAMOTORS, 500570BSE Limited INE118H01025, BSE, 0QuotesMutual FundsCommoditiesFutures & OptionsCurrencyNewsCryptocurrencyForumNoticesVideosGlossaryAll  Hello, Login Hello, LoginLog-inor Sign-UpMy AccountMy Profile My PortfolioMy WatchlistFREE Credit Score₹100 Cash RewardFixed DepositsMy AlertsMy MessagesPrice AlertsMy Profile My PROMy PortfolioMy WatchlistFREE Credit Score₹100 Cash RewardFixed DepositsMy AlertsMy MessagesPrice AlertsLogoutChat with UsDownload AppFollow us on:Go Ad-FreeMy Alerts->->MC_ENG_DESKTOP/MC_ENG_NEWS/MC_ENG_NEWS_COMMODITY_PRICE_AS/MC_ENG_ROS_NWS_COMM_PRC_AS_ATF_728|~|MC_ENG_DESKTOP/MC_ENG_NEWS/MC_ENG_NEWS_COMMODITY_PRICE_AS/MC_ENG_ROS_NWS_COMM_PRC_AS_ATF_728Go PRO @₹99  PROAdvertisementRemove AdMarketsHOMEINDIAN INDICESSTOCK ACTIONAll StatsTop GainersTop LosersOnly BuyersOnly Sellers52 Week High52 Week LowPrice ShockersVolume ShockersMost Active StocksGLOBAL MARKETSUS MARKETSSEASONALITY ANALYSISSTOCK SCANNERECONOMIC INDICATORSECONOMIC CALENDARMARKET ACTIONDashboardF&OFII & DII ActivityCorporate ActionEARNINGSCOMMODITYSECTOR ANALYSISPRE MARKETRESEARCHInvestment AdviceTechnicalsCURRENCYCRYPTOCURRENCYTECHNICAL TRENDSBIG SHARK PORTFOLIOSIPOBONDSWEBINARINTERVIEW SERIESOTHERSCryptocurrency NewsToolsNewsLATEST NEWSAssembly ElectionsUS Election 2024BUSINESSEconomyCompaniesMutual FundsPersonal FinanceIPOStartupReal EstateBankingNATION & WORLDIndiaWorldPoliticsMARKETSStocksTechnical AnalysisEquity ResearchCommoditiesCurrencyGold RateSilver RateAQISPECIALTrendsOpinionExplainersMC BuzzMC FeaturesMC LearnTECHNOLOGYPersonal TechAutoFintechMEDIAPodcastPhotosVideosWeb StoriesCRYPTOCURRENCYOTHERSEntertainmentSportsLifestyleHealth and FitnessEducationJobsScienceAstroTravelAssembly ElectionsTechIndiaPortfolioWatchlistCommoditiesMutual FundsEXPLOREHomeFind FundTop Ranked FundsPerformance TrackerSIP Performance TrackerETF PerformanceNFOTop Performing CategoriesLearnTOOLSReturns CalculatorLumpsum SIP BalancerDelay Cost CalculatorSIP ReturnMF FORUMTRACKYour MF InvestmentMF PricesMC 30Personal FinanceEXPLOREHomeInvestingInsuranceBankingFinancial PlanningPropertyToolsVideoAsk ExpertExplainerNPSFIXED DEPOSITFDs @ 9.1% p.a.Fixed Deposit ComparisonFixed Deposit Interest CalculatorCorporate DepositsTAXIncome tax Filing GuideIncome Tax Calculator\\t\\t\\t\\t\\t\\t\\t\\t\\t\\t\\t\\xa0LTCG Tax on PropertyLOANS & CREDIT CARDSHomeLoans\\t\\t\\t\\t\\t\\t\\t\\t\\t\\t\\t\\t\\xa0EMI CalculatorCar Loan CalculatorHome Loan CalculatorEducation Loan CalculatorCredit Card Debit Payoff CalculatorTOOLSProvident Fund CalculatorAssets Allocation PlanningDebt Reduction PlannerDebt Evaluation CalculatorCurrent Expense CalculatorFREE CREDIT SCORE₹100 Cash RewardFINANCE TRACKERREAL ESTATE : TRENDS & ANALYTICSMC 30MONEYCONTROL - SECURENOW HEALTH INSURANCE RATINGSGOLD PRICE TODAYUpcoming Chat | Previous TranscriptsAll Schedule | Previous TranscriptForumEXPLORE FORUMHomepageMembership RulesForum TopicsAsk the ExpertTop BoardersUSER PROFILEFORUM TOPICSLatest ThreadsStocksIndexGoldPersonal FinanceJust PostedMF FORUMPOLLSLatest PollsHistorical PollsMarket SentimentsSUPPORTFAQsCode of ConductFeedbackWrite to usVideosVIDEOSHomepageVideo on DemandOpening & Closing BellThe TenantDrive ReportPODCASTHomepagePodcast on DemandThe Week on Dalal StreetMarket MinutesMC Special PodcastSimply SavePolicy TalksLIVE TVHindiGujaratiInvest NowINVEST IN CRYPTOassetsPowered By Invest in top cryptocurrencies all over the worldSee the top gainers, losers, invest and get updated what\\'s happening in the crypto marketInvest NowBOTS Summit (FY 24-25)Powered By Bharat option traders summit - 2024India\\'s Largest Regional Retail Option Traders Summit. (BOTS) is a prestigious options trading event organized by Traders Gurukul. Held on the 2nd OR 3rd Sunday of every month, across top cities in IndiaInvest NowOpen Trading AccountPowered By \"Open Trading Account\" formerly know as TradeNowThis functionality will provide users with ease of access navigation and enable create a new revenue line by generating leads of potential customers for brokers in a more integrated manner.Invest NowPRO BusinessMarketsStocksEconomyCompaniesTrendsIPOOpinionEV Special \\n \\n  \\n      HomeNewsGold rates today    \\n         \\n  GOLD RATE IN INDIAAs on Oct, 01 2024GOLD RATE YESTERDAY₹ 74,970 0.43%Mumbai AgraAhmedabadAndhra pradeshAssamBangaloreBhilaiBhopalBhubaneswarBiharChandigarhChennaiChhattisgarhCoimbatoreDehradunDelhiFaridabadGhaziabadGoaGujaratGunturGurgaonGuwahatiHaryanaHimachal pradeshHyderabadIndoreJabalpurJaipurJammu and kashmirJharkhandJodhpurKanpurKarnatakaKeralaKolkataKotaKozhikodeLucknowLudhianaMadhya pradeshMaduraiMaharashtraMumbaiMysoreNagpurNoidaOdishaPanajiPatnaPunePunjabRaipurRajasthanRanchiShimlaSuratTamil naduTelanganaThrissurUdaipurUttar pradeshUttarakhandVadodaraVijayawadaVisakhapatnamWarangalWest bengal24 Carat (10 grams)24 Carat (10 grams)22 Carat (10 grams)24 Carat (1 grams)22 Carat (1 grams)Open74,970Prev close75,290One of the most precious and expensive metals, gold is considered very significant in India and is also one of the prime investment options at the present time. Not just in the form of jewellery. but gold is also valued in forms of art and coins. Despite a continuous hike in gold prices, people in India continue to invest in gold on a regular basis. Gold prices in India keep changing due to multiple factors including global market condition and the strength of the US dollar, thus leaving varying impact from city to city depending on demand and supply in local markets. If you are also planning to invest in gold, consider taking a look at the following details.Before knowing gold rates in India, it is important to know the difference between 24-carat and 22-carat gold. While 24-carat gold is a 100 percent pure form of gold with no trace of any other metal, 22-carat gold has traces of alloyed metals like silver or copper and has 91.67 percent pure gold.22 Carat Gold Rate (Yesterday & Sep 30, 2024)GramYesterdaySep 30, 2024Price Change1 Gram₹ 7,140₹ 7,170₹ 3010 Gram₹ 71,400₹ 71,700₹ 300100 Gram₹ 714,000₹ 717,000₹ 3,00024 Carat Gold Rate (Yesterday & Sep 30, 2024)GramYesterdaySep 30, 2024Price Change1 Gram₹ 7,497₹ 7,529₹ 3210 Gram₹ 74,970₹ 75,290₹ 320100 Gram₹ 749,700₹ 752,900₹ 3,200FACTORS AFFECTING GOLD PRICES IN INDIAThere are several factors that affect gold rates in India including fluctuations in the global market to the strength of the USD, import costs, interest rates on banks\\' fixed deposits, economic stability, seasonal prices, inflation and demand-supply, among others. While high inflation rates increase the demand for gold and vice versa, its price also shoots up as with an increase in demand. Apart from a few global conditions, the international spot price of gold also affects the metal value of gold in India. Just like any other product, demand and supply also affect gold prices. With a rise in demand and supply for gold, its prices have also increased.GOLD PRICE IN INDIAN CITIESAs on Oct 01, 2024City NameStandard Gold Rate (22 K)Change from the previous dayPure Gold Rate (24 K)Change from the previous day1 Gram8 Grams1 Gram8 GramsAgra₹ 7,150₹ 57,200₹ 7,508₹ 60,064Ahmedabad₹ 7,154₹ 57,232₹ 7,512₹ 60,096Andhra pradesh₹ 7,050₹ 56,400₹ 7,403₹ 59,224Assam₹ 7,220₹ 57,760₹ 7,581₹ 60,648Bangalore₹ 7,165₹ 57,320₹ 7,523₹ 60,184Bhilai₹ 7,140₹ 57,120₹ 7,497₹ 59,976Bhopal₹ 7,140₹ 57,120₹ 7,497₹ 59,976Bhubaneswar₹ 7,220₹ 57,760₹ 7,581₹ 60,648Bihar₹ 7,220₹ 57,760₹ 7,581₹ 60,648Chandigarh₹ 7,150₹ 57,200₹ 7,508₹ 60,064Chennai₹ 7,050₹ 56,400₹ 7,403₹ 59,224Chhattisgarh₹ 7,140₹ 57,120₹ 7,497₹ 59,976Coimbatore₹ 7,050₹ 56,400₹ 7,403₹ 59,224Dehradun₹ 7,150₹ 57,200₹ 7,508₹ 60,064Delhi₹ 7,150₹ 57,200₹ 7,508₹ 60,064Faridabad₹ 7,150₹ 57,200₹ 7,508₹ 60,064Ghaziabad₹ 7,150₹ 57,200₹ 7,508₹ 60,064Goa₹ 7,165₹ 57,320₹ 7,523₹ 60,184Gujarat₹ 7,154₹ 57,232₹ 7,512₹ 60,096Guntur₹ 7,050₹ 56,400₹ 7,403₹ 59,224Gurgaon₹ 7,150₹ 57,200₹ 7,508₹ 60,064Guwahati₹ 7,220₹ 57,760₹ 7,581₹ 60,648Haryana₹ 7,150₹ 57,200₹ 7,508₹ 60,064Himachal pradesh₹ 7,150₹ 57,200₹ 7,508₹ 60,064Hyderabad₹ 7,050₹ 56,400₹ 7,403₹ 59,224Indore₹ 7,140₹ 57,120₹ 7,497₹ 59,976Jabalpur₹ 7,140₹ 57,120₹ 7,497₹ 59,976Jaipur₹ 7,154₹ 57,232₹ 7,512₹ 60,096Jammu and kashmir₹ 7,150₹ 57,200₹ 7,508₹ 60,064Jharkhand₹ 7,220₹ 57,760₹ 7,581₹ 60,648Jodhpur₹ 7,154₹ 57,232₹ 7,512₹ 60,096Kanpur₹ 7,150₹ 57,200₹ 7,508₹ 60,064Karnataka₹ 7,165₹ 57,320₹ 7,523₹ 60,184Kerala₹ 7,050₹ 56,400₹ 7,403₹ 59,224Kolkata₹ 7,220₹ 57,760₹ 7,581₹ 60,648Kota₹ 7,154₹ 57,232₹ 7,512₹ 60,096Kozhikode₹ 7,050₹ 56,400₹ 7,403₹ 59,224Lucknow₹ 7,150₹ 57,200₹ 7,508₹ 60,064Ludhiana₹ 7,150₹ 57,200₹ 7,508₹ 60,064Madhya pradesh₹ 7,140₹ 57,120₹ 7,497₹ 59,976Madurai₹ 7,050₹ 56,400₹ 7,403₹ 59,224Maharashtra₹ 7,140₹ 57,120₹ 7,497₹ 59,976Mumbai₹ 7,140₹ 57,120₹ 7,497₹ 59,976Mysore₹ 7,165₹ 57,320₹ 7,523₹ 60,184Nagpur₹ 7,140₹ 57,120₹ 7,497₹ 59,976Noida₹ 7,150₹ 57,200₹ 7,508₹ 60,064Odisha₹ 7,220₹ 57,760₹ 7,581₹ 60,648Panaji₹ 7,165₹ 57,320₹ 7,523₹ 60,184Patna₹ 7,220₹ 57,760₹ 7,581₹ 60,648Pune₹ 7,140₹ 57,120₹ 7,497₹ 59,976Punjab₹ 7,150₹ 57,200₹ 7,508₹ 60,064Raipur₹ 7,140₹ 57,120₹ 7,497₹ 59,976Rajasthan₹ 7,154₹ 57,232₹ 7,512₹ 60,096Ranchi₹ 7,220₹ 57,760₹ 7,581₹ 60,648Shimla₹ 7,150₹ 57,200₹ 7,508₹ 60,064Surat₹ 7,154₹ 57,232₹ 7,512₹ 60,096Tamil nadu₹ 7,050₹ 56,400₹ 7,403₹ 59,224Telangana₹ 7,050₹ 56,400₹ 7,403₹ 59,224Thrissur₹ 7,050₹ 56,400₹ 7,403₹ 59,224Udaipur₹ 7,154₹ 57,232₹ 7,512₹ 60,096Uttar pradesh₹ 7,150₹ 57,200₹ 7,508₹ 60,064Uttarakhand₹ 7,150₹ 57,200₹ 7,508₹ 60,064Vadodara₹ 7,154₹ 57,232₹ 7,512₹ 60,096Vijayawada₹ 7,050₹ 56,400₹ 7,403₹ 59,224Visakhapatnam₹ 7,050₹ 56,400₹ 7,403₹ 59,224Warangal₹ 7,050₹ 56,400₹ 7,403₹ 59,224West bengal₹ 7,220₹ 57,760₹ 7,581₹ 60,648Show MoreEven as buying gold has turned out to be a secure form of investment in India, more and more people are engaging themselves in buying gold. With gold rates skyrocketing in recent times, it is important to take note of a few things before investing in precious metals.Check your current gold rates in your city: As gold rates change on a regular basis, it is important to check the current price in your city before making any purchase.Buying certified gold: To buy the purest form of gold, it is important to check it through the â€˜Hallmarkâ€™ sign. With gold hallmarking rules changing this year, all gold jewellery will now carry a 6-digit alphanumeric HUID or Hallmark Unique Identification.Check all the additional charges: Apart from the actual price of gold per gram, jewellers also add making charges to it. However, there is a need to check for any other charges levied on your jewellery by calculating the per gram amount that you are paying.GOLD RATE IN INDIA FOR LAST 10 DAYSDateStandard Gold Rate (22 K)Pure Gold Rate (24 K)10 Grams10 GramsOct 01, 2024₹ 71,400₹ 74,970Sep 30, 2024₹ 71,700₹ 75,290Sep 29, 2024₹ 71,850₹ 75,440Sep 28, 2024₹ 71,850₹ 75,440Sep 27, 2024₹ 71,900₹ 75,500Sep 26, 2024₹ 71,500₹ 75,080Sep 25, 2024₹ 71,500₹ 75,080Sep 24, 2024₹ 70,900₹ 74,450Sep 23, 2024₹ 70,700₹ 74,240Sep 21, 2024₹ 70,500₹ 74,030WEEKLY & MONTHLY GRAPH OF GOLD PRICE IN INDIA1W1M3MAdvertisementRemove AdGOLD RATE CALCULATORCityAgraAhmedabadAndhra pradeshAssamBangaloreBhilaiBhopalBhubaneswarBiharChandigarhChennaiChhattisgarhCoimbatoreDehradunDelhiFaridabadGhaziabadGoaGujaratGunturGurgaonGuwahatiHaryanaHimachal pradeshHyderabadIndoreJabalpurJaipurJammu and kashmirJharkhandJodhpurKanpurKarnatakaKeralaKolkataKotaKozhikodeLucknowLudhianaMadhya pradeshMaduraiMaharashtraMumbaiMysoreNagpurNoidaOdishaPanajiPatnaPunePunjabRaipurRajasthanRanchiShimlaSuratTamil naduTelanganaThrissurUdaipurUttar pradeshUttarakhandVadodaraVijayawadaVisakhapatnamWarangalWest bengalQuantity (gram)Purity 24 Carat 22 CaratCALCULATEGold Rate in Mumbai for1 gram 24 Carat is: ₹6,166AdvertisementRemove AdGOLD NEWSGold closed 0.22% higher at Rs 75,213 on October 1: MCX DataGoldâ€™s record run canâ€™t continue forever, right?Gold prices ended 0.38% below at Rs 75,051 on September 30: MCX DataGold pulls back but dovish Fed sets it for best quarter since 2016Gold prices 0.08% lower at Rs 75,340 on September 27: MCX dataGold hits another record for third day; silver rates climb Rs 500Show MoreSILVERAs on Oct 01, 2024YESTERDAY Silver Rate Per Gram/KgSilver (1 gram)₹ 99.99Silver (8 gram)₹ 799.92Silver (10 gram)₹ 999.90Silver (100 gram)₹ 9,999Silver (1 Kg)₹ 99,990Show MoreAdvertisementRemove AdGold Rate In India FAQsWho decides the gold rate in India?Determined by a combination of factors including international market behaviour, demand, supply and inflation, among others, gold prices in India are indicated by the Multi Commodity Exchange of India Ltd. and the National Commodities and Derivatives Exchange Limited (NCDEX).Factors that can potentially impact the gold rate?Factors that potentially affect gold rates in India are fluctuations in the global market, strength of the USD, import costs, interest rates on banks\\' fixed deposits, economic stability, seasonal prices, inflation and demand-supply.What is the Purest form of Gold?24-carat gold is considered to be the purest form with 100 percent gold and no traces of any other metal.What is the best time to buy Gold?Auspicious festivals like Dhanteras, Makar Sankranti, Akshaya Tritiya, Dussehra, and Diwali are considered the best time to buy gold in India. It is primarily because jewellers offer a range of discounts on making charges.How to check the purity of gold?The purity of gold can be determined by checking the \\'Hallmark\\' sign on the jewellery. Hallmarked jewellery certifies the claimed purity of gold and further engraves the purity level along with the name of the retailer to ensure that customers are not duped.What is gold Hallmarking?In a bid to bring transparency into jewellery shopping, the Bureau of Indian Standards (BIS) has been designated to implement hallmarking of gold jewellery to ensure that customers buy the purest form of gold. Through this process, the proportionate content of precious metals is determined and recorded through specific marks such as the BIS logo, the purity of the metal and a unique HUID number.Is gold hallmarking mandatory?To ensure that customers are not duped and sold off with an impure form of gold that has a mix of other alloyed metals, the Bureau of Indian Standards (BIS) has been designated to implement hallmarking of gold jewellery.How is tax calculated on gold? Types of Gold TaxBeginning with the custom tax that the government imposes for importing gold into the country, it is followed by other taxes levied by sellers including the GST, making charges, and TDS.How do international gold rates affect the gold market in India?The fluctuation in the international markets largely impacts the price of gold in India. For example, any rise in the US Fed interest rate will result in money flowing into government securities and the banking system from gold reserves. India is one of the largest gold importers and sees a major impact with fluctuations in gold prices on global markets.Why should you invest in gold?Being the safest and profitable form of investment in India, investing in gold will not only come as an asset but is also considered superior to currency. It is one of the few assets that is tangible and creates a perception of safety among investors. Both purchasing and selling gold are very easy in India.GOLD INVESTMENT IN INDIAGold investment in India is popular and can be done through various avenues. These include purchasing gold jewelry, coins, bars, or investing in gold ETFs. Gold jewelry serves a dual purpose of adornment and investment, although factors like making charges should be considered. Gold coins and bars can be obtained from authorized dealers or banks in different weights. Alternatively, investors can opt for gold ETFs, which offer liquidity and convenience. The government also issues Sovereign Gold Bonds periodically, providing an alternative investment option. It\\'s important to track gold prices as they are subject to fluctuations influenced by various factors. Proper storage, such as bank lockers or secure vaults, is essential for physical gold investments. Consulting with a financial advisor is recommended to make informed investment decisions based on individual financial goals and risk tolerance.Furthermore, the Gold Monetization Scheme introduced by the government allows individuals to deposit their idle gold with banks and earn interest on it. This scheme aims to put the idle gold held by households to productive use. However, it\\'s important to note that gold investments come with risks. While gold has historically been considered a safe haven asset, its value can also fluctuate based on international market trends, currency exchange rates, and economic factors. Therefore, it\\'s prudent to carefully monitor gold prices and assess the market conditions before making any investment decisions. Seeking guidance from a financial advisor or investment professional can provide valuable insights and help align your gold investment strategy with your overall financial goals.DisclaimerMoneycontrol makes no guarantee or warranty on the accuracy of the data provided on this site, the prevailing rates are susceptible to change with Market value and provided on an as-is basis. These rates are indicative only, and notÂ\\xa0a solicitation to buy, sell in precious gold. For exact rates contact your local jeweller. Nothing contained herein is intended or shall be deemed to be investment advice, implied or otherwise. We accept no liability for any loss arising from the use of the data contained on this website.Advisory Alert: It has come to our attention that certain individuals are representing themselves as affiliates of Moneycontrol and soliciting funds on the false promise of assured returns on their investments. We wish to reiterate that Moneycontrol does not solicit funds from investors and neither does it promise any assured returns. In case you are approached by anyone making such claims, please write to us at grievanceofficer@nw18.com or call on 02268882347   Forum Facebook Twitter\\nInstagram Linkedin\\nRSS        Portfolio Markets Watchlist Live TV ShowCurrencies  FREE Credit Score₹100 Cash RewardFinance Tracker  CommoditiesFixed Deposits  Fixed Income Personal Finance   Mutual Fund Pre-Market IPO Global MarketBudget 2024Elections 2024Gold Rate BSE Sensex ForumMC 30    News BusinessMarketsStocksIncome Tax CalculatorElection Schedule 2024India NewsEconomyMutual FundsPersonal FinanceIPO NewsStartups      Stocks:\\n A |\\r\\n                           B |\\r\\n                           C |\\r\\n                           D |\\r\\n                           E |\\r\\n                           F |\\r\\n                           G |\\r\\n                           H |\\r\\n                           I |\\r\\n                           J |\\r\\n                           K |\\r\\n                           L |\\r\\n                           M |\\r\\n                           N |\\r\\n                           O |\\r\\n                           P |\\r\\n                           Q |\\r\\n                           R |\\r\\n                           S |\\r\\n                           T |\\r\\n                           U |\\r\\n                           V |\\r\\n                           W |\\r\\n                           X |\\r\\n                           Y |\\r\\n                           Z |\\r\\n                        Others  \\nMutual Funds:\\n A \\r\\n             |                B \\r\\n             |                C \\r\\n             |                D \\r\\n             |                E \\r\\n             |                F \\r\\n             |                G \\r\\n             |                H \\r\\n             |                I \\r\\n             |                J \\r\\n             |                K \\r\\n             |                L \\r\\n             |                M \\r\\n             |                N \\r\\n             |                O \\r\\n             |                P \\r\\n             |                Q \\r\\n             |                R \\r\\n             |                S \\r\\n             |                T \\r\\n             |                U \\r\\n             |                V \\r\\n             |                W \\r\\n             |                X \\r\\n             |                Y \\r\\n             |                Z\\n Visit the App Store to see all our apps:Download from Google PlayDownload from APP StoreDownload from Windows Phone      Tools  Retirement Planning EMI Calculator SIP Calculator SIP Planner   Useful LinksCrypto NewsBank Holidays in IndiaGold Rate TodaySilver Rate TodayTrending NewsStartupsNational NewsMC VideosMC You TubeHouse Purchase IndexBest Portfolio ManagerSmall Savings SchemesBondsTopperLearningClear Study DoubtsEducation Franchisee Opportunity    Specials  Master Your Money Game Changers Investment Watch PowerYourTrade    Focus SME Step Up  Network 18 SitesNews18FirstpostCNBC TV18News18 HindiCricketnextOverdriveTopper Learning      About us | \\r\\n        Contact Us | \\r\\n        Advisory Alert | Advertise with Us | \\r\\n        \\t\\t        Support |\\r\\n        Disclaimer | \\r\\n        Privacy Policy | Cookie Policy | \\r\\n        Terms & Conditions | \\r\\n        Careers | \\r\\n        Financial Terms (Glossary) | \\r\\n         FAQs | \\r\\n                 Sitemap | \\r\\n        RSS Feed | \\r\\n        Investors   Copyright Â© e-Eighteen.com Ltd. All rights reserved. Reproduction of news articles, photos, videos or any other content in whole or in part in any form \\r\\n        or medium without express writtern permission of moneycontrol.com is prohibited.  You got 30 Dayâ€™s Trial of Grab it Now Ad-Free Experience Top Articles from Financial Times Actionable Insights MC Research Economic Calendar & Many MoreYou are already a Moneycontrol Pro user.OK   \\n ')]"
      ]
     },
     "execution_count": 7,
     "metadata": {},
     "output_type": "execute_result"
    }
   ],
   "source": [
    "# data ingestin to scrap the data from website\n",
    "\n",
    "# to use webbase loader we need to have bs4 installed\n",
    "from langchain_community.document_loaders import WebBaseLoader\n",
    "web_loader = WebBaseLoader(\"https://www.moneycontrol.com/news/gold-rates-today/\")\n",
    "docs_from_web = web_loader.load()\n",
    "docs_from_web"
   ]
  },
  {
   "cell_type": "code",
   "execution_count": 15,
   "metadata": {},
   "outputs": [
    {
     "data": {
      "text/plain": [
       "<langchain_community.vectorstores.faiss.FAISS at 0x294c00fec90>"
      ]
     },
     "execution_count": 15,
     "metadata": {},
     "output_type": "execute_result"
    }
   ],
   "source": [
    "# converting the large docs to chunks : docs transformation\n",
    "from langchain_text_splitters import RecursiveCharacterTextSplitter\n",
    "splitter = RecursiveCharacterTextSplitter(chunk_size=200,chunk_overlap=10)\n",
    "splitted_docs = splitter.split_documents(docs_from_web)\n",
    "\n",
    "# splitted docs to be converted to vectors and storing in vectordbs\n",
    "from langchain_community.embeddings import OpenAIEmbeddings\n",
    "embeddings = OpenAIEmbeddings()\n",
    "\n",
    "# storing in faiss-cpu db\n",
    "\n",
    "from langchain_community.vectorstores import FAISS\n",
    "database = FAISS.from_documents(splitted_docs,embeddings)\n",
    "database"
   ]
  },
  {
   "cell_type": "code",
   "execution_count": 22,
   "metadata": {},
   "outputs": [
    {
     "data": {
      "text/plain": [
       "[(Document(metadata={'source': 'https://www.moneycontrol.com/news/gold-rates-today/', 'title': 'Gold Rate in India Today: Check 22 & 24 Carat Gold Rate in India | MoneyControl - Moneycontrol.com', 'description': 'Gold Rate in India Today: Check latest gold rate in India today by the Moneycontrol. Get latest 22 & 24 carat gold rate in india, gold rate news, gold rate updates, videos and more', 'language': 'en'}, page_content='gold.22 Carat Gold Rate (Yesterday & Sep 30, 2024)GramYesterdaySep 30, 2024Price Change1 Gram₹ 7,140₹ 7,170₹ 3010 Gram₹ 71,400₹ 71,700₹ 300100 Gram₹ 714,000₹ 717,000₹ 3,00024 Carat Gold Rate'),\n",
       "  0.26260042),\n",
       " (Document(metadata={'source': 'https://www.moneycontrol.com/news/gold-rates-today/', 'title': 'Gold Rate in India Today: Check 22 & 24 Carat Gold Rate in India | MoneyControl - Moneycontrol.com', 'description': 'Gold Rate in India Today: Check latest gold rate in India today by the Moneycontrol. Get latest 22 & 24 carat gold rate in india, gold rate news, gold rate updates, videos and more', 'language': 'en'}, page_content='Gold Rate in India Today: Check 22 & 24 Carat Gold Rate in India | MoneyControl - Moneycontrol.com'),\n",
       "  0.27090696),\n",
       " (Document(metadata={'source': 'https://www.moneycontrol.com/news/gold-rates-today/', 'title': 'Gold Rate in India Today: Check 22 & 24 Carat Gold Rate in India | MoneyControl - Moneycontrol.com', 'description': 'Gold Rate in India Today: Check latest gold rate in India today by the Moneycontrol. Get latest 22 & 24 carat gold rate in india, gold rate news, gold rate updates, videos and more', 'language': 'en'}, page_content='HomeNewsGold rates today'),\n",
       "  0.29280564),\n",
       " (Document(metadata={'source': 'https://www.moneycontrol.com/news/gold-rates-today/', 'title': 'Gold Rate in India Today: Check 22 & 24 Carat Gold Rate in India | MoneyControl - Moneycontrol.com', 'description': 'Gold Rate in India Today: Check latest gold rate in India today by the Moneycontrol. Get latest 22 & 24 carat gold rate in india, gold rate news, gold rate updates, videos and more', 'language': 'en'}, page_content='pradeshUttarakhandVadodaraVijayawadaVisakhapatnamWarangalWest bengalQuantity (gram)Purity 24 Carat 22 CaratCALCULATEGold Rate in Mumbai for1 gram 24 Carat is: ₹6,166AdvertisementRemove AdGOLD'),\n",
       "  0.3063309)]"
      ]
     },
     "execution_count": 22,
     "metadata": {},
     "output_type": "execute_result"
    }
   ],
   "source": [
    "# to query from the webpage\n",
    "query = \"what is the rate of gold 22 carats today\"\n",
    "result = database.similarity_search_with_score(query) # low score is better\n",
    "result"
   ]
  },
  {
   "cell_type": "code",
   "execution_count": 23,
   "metadata": {},
   "outputs": [],
   "source": [
    "# making a llm model\n",
    "from langchain_openai import ChatOpenAI\n",
    "gpt_model_2 = ChatOpenAI(model=\"gpt-4o-mini\")\n"
   ]
  },
  {
   "cell_type": "code",
   "execution_count": 28,
   "metadata": {},
   "outputs": [
    {
     "data": {
      "text/plain": [
       "RunnableBinding(bound=RunnableBinding(bound=RunnableAssign(mapper={\n",
       "  context: RunnableLambda(format_docs)\n",
       "}), kwargs={}, config={'run_name': 'format_inputs'}, config_factories=[])\n",
       "| ChatPromptTemplate(input_variables=['context'], input_types={}, partial_variables={}, messages=[HumanMessagePromptTemplate(prompt=PromptTemplate(input_variables=['context'], input_types={}, partial_variables={}, template='\\nanswer the questions based on provided context\\n<context>\\n{context}\\n</context>\\n\\n'), additional_kwargs={})])\n",
       "| ChatOpenAI(client=<openai.resources.chat.completions.Completions object at 0x00000295271C84D0>, async_client=<openai.resources.chat.completions.AsyncCompletions object at 0x00000295284FC890>, root_client=<openai.OpenAI object at 0x00000295286750D0>, root_async_client=<openai.AsyncOpenAI object at 0x00000295284212D0>, model_name='gpt-4o-mini', model_kwargs={}, openai_api_key=SecretStr('**********'))\n",
       "| StrOutputParser(), kwargs={}, config={'run_name': 'stuff_documents_chain'}, config_factories=[])"
      ]
     },
     "execution_count": 28,
     "metadata": {},
     "output_type": "execute_result"
    }
   ],
   "source": [
    "# if we want to ask meaningful qstns  and get answers from db \n",
    "# we use retrieval chain\n",
    "\n",
    "# to create a chain for passing a list of docs to a model\n",
    "from langchain.chains.combine_documents import create_stuff_documents_chain\n",
    "\n",
    "from langchain_core.prompts import ChatPromptTemplate\n",
    "\n",
    "prompt = ChatPromptTemplate.from_template(\n",
    "    \"\"\"\n",
    "answer the questions based on provided context\n",
    "<context>\n",
    "{context}\n",
    "</context>\n",
    "\n",
    "\"\"\"\n",
    ")\n",
    "# here doc_chain is responsible in providing the context into prompt template\n",
    "document_chain = create_stuff_documents_chain(gpt_model_2,prompt)\n",
    "document_chain\n",
    "# here we  an see the chain prompttemplate | chatopeai model | strparser for output"
   ]
  },
  {
   "cell_type": "code",
   "execution_count": 29,
   "metadata": {},
   "outputs": [
    {
     "data": {
      "text/plain": [
       "'Sure! Please provide the questions you would like me to answer based on the context given.'"
      ]
     },
     "execution_count": 29,
     "metadata": {},
     "output_type": "execute_result"
    }
   ],
   "source": [
    "# we can get o/p from the about built doc chain\n",
    "from langchain_core.documents import Document\n",
    "document_chain.invoke({\n",
    "    \"input\":\"The gold rate of today compared to yesterday\",\n",
    "    \"context\":[Document(page_content=\"the gold rate is 7200 and yesterdays rate is 7100\")]\n",
    "\n",
    "})\n"
   ]
  },
  {
   "cell_type": "code",
   "execution_count": 30,
   "metadata": {},
   "outputs": [
    {
     "data": {
      "text/plain": [
       "RunnableBinding(bound=RunnableAssign(mapper={\n",
       "  context: RunnableBinding(bound=RunnableLambda(lambda x: x['input'])\n",
       "           | VectorStoreRetriever(tags=['FAISS', 'OpenAIEmbeddings'], vectorstore=<langchain_community.vectorstores.faiss.FAISS object at 0x00000294C00FEC90>, search_kwargs={}), kwargs={}, config={'run_name': 'retrieve_documents'}, config_factories=[])\n",
       "})\n",
       "| RunnableAssign(mapper={\n",
       "    answer: RunnableBinding(bound=RunnableBinding(bound=RunnableAssign(mapper={\n",
       "              context: RunnableLambda(format_docs)\n",
       "            }), kwargs={}, config={'run_name': 'format_inputs'}, config_factories=[])\n",
       "            | ChatPromptTemplate(input_variables=['context'], input_types={}, partial_variables={}, messages=[HumanMessagePromptTemplate(prompt=PromptTemplate(input_variables=['context'], input_types={}, partial_variables={}, template='\\nanswer the questions based on provided context\\n<context>\\n{context}\\n</context>\\n\\n'), additional_kwargs={})])\n",
       "            | ChatOpenAI(client=<openai.resources.chat.completions.Completions object at 0x00000295271C84D0>, async_client=<openai.resources.chat.completions.AsyncCompletions object at 0x00000295284FC890>, root_client=<openai.OpenAI object at 0x00000295286750D0>, root_async_client=<openai.AsyncOpenAI object at 0x00000295284212D0>, model_name='gpt-4o-mini', model_kwargs={}, openai_api_key=SecretStr('**********'))\n",
       "            | StrOutputParser(), kwargs={}, config={'run_name': 'stuff_documents_chain'}, config_factories=[])\n",
       "  }), kwargs={}, config={'run_name': 'retrieval_chain'}, config_factories=[])"
      ]
     },
     "execution_count": 30,
     "metadata": {},
     "output_type": "execute_result"
    }
   ],
   "source": [
    "### retriever\n",
    "# interface which is responsible for getting the data from vectorstore db\n",
    "retriever = database.as_retriever()\n",
    "from langchain.chains import create_retrieval_chain\n",
    "\n",
    "# create retriever chain takes retriever and document_chain as inputs\n",
    "retriever_chain  = create_retrieval_chain(retriever,document_chain)\n",
    "retriever_chain\n",
    "# context is given by document_chain to retriever to create retriever chain\n",
    "\n"
   ]
  },
  {
   "cell_type": "code",
   "execution_count": 34,
   "metadata": {},
   "outputs": [
    {
     "name": "stdout",
     "output_type": "stream",
     "text": [
      "{'input': 'what is the rate of gold 22 carats today', 'context': [Document(metadata={'source': 'https://www.moneycontrol.com/news/gold-rates-today/', 'title': 'Gold Rate in India Today: Check 22 & 24 Carat Gold Rate in India | MoneyControl - Moneycontrol.com', 'description': 'Gold Rate in India Today: Check latest gold rate in India today by the Moneycontrol. Get latest 22 & 24 carat gold rate in india, gold rate news, gold rate updates, videos and more', 'language': 'en'}, page_content='gold.22 Carat Gold Rate (Yesterday & Sep 30, 2024)GramYesterdaySep 30, 2024Price Change1 Gram₹ 7,140₹ 7,170₹ 3010 Gram₹ 71,400₹ 71,700₹ 300100 Gram₹ 714,000₹ 717,000₹ 3,00024 Carat Gold Rate'), Document(metadata={'source': 'https://www.moneycontrol.com/news/gold-rates-today/', 'title': 'Gold Rate in India Today: Check 22 & 24 Carat Gold Rate in India | MoneyControl - Moneycontrol.com', 'description': 'Gold Rate in India Today: Check latest gold rate in India today by the Moneycontrol. Get latest 22 & 24 carat gold rate in india, gold rate news, gold rate updates, videos and more', 'language': 'en'}, page_content='Gold Rate in India Today: Check 22 & 24 Carat Gold Rate in India | MoneyControl - Moneycontrol.com'), Document(metadata={'source': 'https://www.moneycontrol.com/news/gold-rates-today/', 'title': 'Gold Rate in India Today: Check 22 & 24 Carat Gold Rate in India | MoneyControl - Moneycontrol.com', 'description': 'Gold Rate in India Today: Check latest gold rate in India today by the Moneycontrol. Get latest 22 & 24 carat gold rate in india, gold rate news, gold rate updates, videos and more', 'language': 'en'}, page_content='HomeNewsGold rates today'), Document(metadata={'source': 'https://www.moneycontrol.com/news/gold-rates-today/', 'title': 'Gold Rate in India Today: Check 22 & 24 Carat Gold Rate in India | MoneyControl - Moneycontrol.com', 'description': 'Gold Rate in India Today: Check latest gold rate in India today by the Moneycontrol. Get latest 22 & 24 carat gold rate in india, gold rate news, gold rate updates, videos and more', 'language': 'en'}, page_content='pradeshUttarakhandVadodaraVijayawadaVisakhapatnamWarangalWest bengalQuantity (gram)Purity 24 Carat 22 CaratCALCULATEGold Rate in Mumbai for1 gram 24 Carat is: ₹6,166AdvertisementRemove AdGOLD')], 'answer': 'Please provide the questions you would like to ask based on the provided context.'}\n"
     ]
    },
    {
     "data": {
      "text/plain": [
       "'Please provide the questions you would like to ask based on the provided context.'"
      ]
     },
     "execution_count": 34,
     "metadata": {},
     "output_type": "execute_result"
    }
   ],
   "source": [
    "# to get the response from retriever chain\n",
    "response_from_retriever = retriever_chain.invoke({\"input\":\"what is the rate of gold 22 carats today\"})\n",
    "print(response_from_retriever)\n",
    "response_from_retriever['answer']"
   ]
  },
  {
   "cell_type": "code",
   "execution_count": null,
   "metadata": {},
   "outputs": [],
   "source": [
    "# end to end project\n",
    "# data ingestion-->data chunks-->data to vectors-->vectors to store in database--->  llm model--> prompt template-->retrieve data from vector database--> set context of llm model as context from retriever---> get response from model\n"
   ]
  }
 ],
 "metadata": {
  "kernelspec": {
   "display_name": "Python 3",
   "language": "python",
   "name": "python3"
  },
  "language_info": {
   "codemirror_mode": {
    "name": "ipython",
    "version": 3
   },
   "file_extension": ".py",
   "mimetype": "text/x-python",
   "name": "python",
   "nbconvert_exporter": "python",
   "pygments_lexer": "ipython3",
   "version": "3.11.5"
  }
 },
 "nbformat": 4,
 "nbformat_minor": 2
}
